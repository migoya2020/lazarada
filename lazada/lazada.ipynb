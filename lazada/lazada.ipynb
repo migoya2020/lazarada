{
 "metadata": {
  "language_info": {
   "codemirror_mode": {
    "name": "ipython",
    "version": 3
   },
   "file_extension": ".py",
   "mimetype": "text/x-python",
   "name": "python",
   "nbconvert_exporter": "python",
   "pygments_lexer": "ipython3",
   "version": "3.8.10"
  },
  "orig_nbformat": 4,
  "kernelspec": {
   "name": "python3",
   "display_name": "Python 3.8.10 64-bit ('3.8.10': pyenv)"
  },
  "interpreter": {
   "hash": "21c62f05f99c8dab720d83faaa4cf69ad261668c44191bfa9ea430228c45a50f"
  }
 },
 "nbformat": 4,
 "nbformat_minor": 2,
 "cells": [
  {
   "cell_type": "code",
   "execution_count": 2,
   "metadata": {},
   "outputs": [],
   "source": [
    "import requests\n",
    "import time\n",
    "import random\n",
    "from random import randint\n",
    "import requests\n",
    "from bs4 import BeautifulSoup\n",
    "import pandas as pd\n",
    "import json\n",
    "import urllib.parse\n",
    "from time import sleep\n",
    "from openpyxl.workbook import Workbook"
   ]
  },
  {
   "cell_type": "code",
   "execution_count": 3,
   "metadata": {},
   "outputs": [],
   "source": [
    "finaldata = []"
   ]
  },
  {
   "cell_type": "code",
   "execution_count": 4,
   "metadata": {},
   "outputs": [],
   "source": [
    "keywords = ['lego 42121',\n",
    "            'lego 76160',\n",
    "            'lego 76191',\n",
    "            'lego 71372',\n",
    "            'lego 10941',\n",
    "            'lego 11013',\n",
    "            'lego 76383',\n",
    "            'lego 10951',\n",
    "            'lego 41936',\n",
    "            'lego 42123',\n",
    "            'lego 43191',\n",
    "            'lego 60287',\n",
    "            'lego 60291',\n",
    "            'lego 60304',\n",
    "            'lego 71736',\n",
    "            'lego 31115',\n",
    "            'lego 76901',\n",
    "            'lego 11001',\n",
    "            'lego 10872',\n",
    "            'lego 10920',\n",
    "            'lego 10915',\n",
    "            'lego 75551',\n",
    "            'lego 71742',\n",
    "            'lego 71360',\n",
    "            'lego 71368',\n",
    "            'lego 76165']"
   ]
  },
  {
   "cell_type": "code",
   "execution_count": 5,
   "metadata": {},
   "outputs": [],
   "source": [
    "def getCurrentEpochTime():\n",
    "    milliseconds = int(round(time.time() * 1000))\n",
    "    return milliseconds"
   ]
  },
  {
   "cell_type": "code",
   "execution_count": 6,
   "metadata": {},
   "outputs": [],
   "source": [
    "ses = requests.Session()\n",
    "mmstat = \"https://gm.mmstat.com/fsp.1.1\"\n",
    "headers0 = {'user-agent': 'Mozilla/5.0 (Windows NT 6.0; Win64; x64) AppleWebKit/537.36 (KHTML, like Gecko) Chrome/51.0.2704.79 Safari/537.36 Edge/14.14393',\n",
    "            'accept-language': 'en-GB,en;q=0.5',\n",
    "            'accept-encoding': 'gzip, deflate, br',\n",
    "            'content-type': 'text/plain;charset=UTF-8',\n",
    "            'content-length': '958',\n",
    "            'origin': 'https://www.lazada.sg',\n",
    "            'referer': 'https://www.lazada.sg/',\n",
    "            'te': 'trailers'}\n",
    "REQUESTBODY = b'{\"gmkey\":\"OTHER\",\"gokey\":\"c1=24cb9fab896eaeb862cd1e05be46c159&delay=0&hash=&last_pos=0%252C0&msg=Daraz-mm-web%2520%25E9%25A1%25B5%25E9%259D%25A2-%25E9%25AA%258C%25E8%25AF%2581%25E7%25A0%2581&page=https%253A%252F%252Fwww.lazada.sg%252Fcatalog%252F&patch_ver=-&pid=punish-page&query=_keyori%253Dss%2526from%253Dinput%2526page%253D1%2526q%253Dlego%252520super%252520heroes%25252076160%2526sort%253Dpriceasc&raw_ua=Mozilla%252F5.0%2520(Windows%2520NT%25206.0%253B%2520Win64%253B%2520x64)%2520AppleWebKit%252F537.36%2520(KHTML%252C%2520like%2520Gecko)%2520Chrome%252F51.0.2704.79%2520Safari%252F537.36%2520Edge%252F14.14393&referrer=&rel=&scr=1920x1080&spm_a=&spm_b=&title=&tracker_ver=4.0.0&type=11&ua=Mozilla%252F5.0%2520(Windows%2520NT%25206.0%253B%2520Win64%253B%2520x64)%2520AppleWebKit%252F537.36%2520(KHTML%252C%2520like%2520Gecko)%2520Chrome%252F51.0.2704.79%2520Safari%252F537.36%2520Edge%252F14.14393&uid=24cb9fab896eaeb862cd1e05be46c159\",\"logtype\":\"2\"}'\n",
    "res0 = ses.post(mmstat, headers=headers0, data=REQUESTBODY)\n",
    "# print(res0.headers)\n",
    "sca = res0.cookies.get('sca')"
   ]
  },
  {
   "cell_type": "code",
   "execution_count": 7,
   "metadata": {},
   "outputs": [],
   "source": [
    "url1 = 'https://sg.mmstat.com/v.gif?logtype=1&title=Sorry%2C%20we%20have%20detected%20unusual%20traffic%20from%20your%20network.&pre=&scr=1920x1080&_p_url=https%3A%2F%2Fwww.lazada.sg%2Fcatalog%2F%3F_keyori%3Dss%26from%3Dinput%26page%3D1%26q%3Dlego%2Bsuper%2Bheroes%2B76160%26sort%3Dpriceasc&spm-cnt=0.0.0.0.12ea720bk56Fp8&category=&uidaplus=&aplus&yunid=&&trid=0b1195ac16242090565304668e18a4&asid=AQAAAACgds9gAG8WOQAAAAB6nRh1hY3K2Q==&p=1&o=winVista&b=edge14&s=1920x1080&w=edge&ism=pc&cache=f1950f8&lver=8.15.6&jsver=aplus_std&pver=0.7.11&ps_i=AtvbWCF0BFxy5LNEYujErjyi9S0vs0YE&pc_i=dd1LzJIaYkuiQ2qD4w76tNGWBDqdu383&_p_ref=&_p_usertype=new&utm_channel=NA&ab_cookie=&_p_meta_desc=&_p_meta_robots=&_p_canonical=&tag=0&stag=-2&lstag=-1&_slog=0'\n",
    "headers0.update({\"cookie\": sca})\n",
    "aptResp = ses.get(url1, headers=headers0)\n",
    "atpsida = aptResp.cookies.get('atpsida')\n",
    "cna = aptResp.cookies.get('cna')"
   ]
  },
  {
   "cell_type": "code",
   "execution_count": 8,
   "metadata": {},
   "outputs": [],
   "source": [
    "apt2_url = 'https://sg.mmstat.com/v.gif?logtype=1&title=lego%20super%20heroes%2076160%20-%20Buy%20lego%20super%20heroes%2076160%20at%20Best%20Price%20in%20Singapore%20%7C%20www.lazada.sg&pre=https%3A%2F%2Fwww.lazada.sg%2Fcatalog%2F%3F_keyori%3Dss%26from%3Dinput%26page%3D1%26q%3Dlego%2Bsuper%2Bheroes%2B76160%26sort%3Dpriceasc&scr=1920x1080&_p_url=https%3A%2F%2Fwww.lazada.sg%2Fcatalog%2F%3F_keyori%3Dss%26from%3Dinput%26page%3D1%26q%3Dlego%2Bsuper%2Bheroes%2B76160%26sort%3Dpriceasc&cna='+cna + \\\n",
    "    '&spm-cnt=a2o42.searchlist.0.0.12ea5675du9NP3&cfgver=1.0&aplus&asid=AQAAAAA67xdgHA3hZAAAAAAcxAAg7RzJQg==&p=1&o=winVista&b=edge14&s=1920x1080&w=edge&ism=pc&cache=ead245&lver=8.15.6&jsver=aplus_int&pver=0.7.11&ps_i=AtvbWCF0BFxy5LNEYujErjyi9S0vs0YE&pc_i=dd1LzJIaYkuiQ2qD4w76tNGWBDqdu383&lzd_pg_type=search&_p_lang=en&_p_ref=&lzd_layout=desktop&_s_engine=HA3&_p_usertype=new&_s_bucket_id=v0&_s_reqNo=30020a5d0d3952278b4f0b68ed0aa250&_s_resultNr=7&_s_internal_term=lego%20super%20heroes%2076160&_s_internal_type=Search%20Results&_s_filters=&utm_channel=NA&undefined=undefined&ab_cookie=&_p_meta_desc=lego%20super%20heroes%2076160%20Singapore%20-%20Shop%20for%20best%20lego%20super%20heroes%2076160%20online%20at%20www.lazada.sg&_p_meta_robots=index%2Cfollow&_p_canonical=https%3A%2F%2Fwww.lazada.sg%2Fcatalog%2F&_hng=SG%257Cen-SG%257CSGD%257C702&tag=1&stag=-1&lstag=-1&_slog=0'\n",
    "headers0.update({\"cookie\": \"sca=\"+sca+\";\"+\"atpsida=\"+atpsida+\";\"})\n",
    "apt2Res = ses.get(apt2_url, headers=headers0)"
   ]
  },
  {
   "cell_type": "code",
   "execution_count": 9,
   "metadata": {},
   "outputs": [],
   "source": [
    "x5sec_url = '''https://www.lazada.sg/catalog/_____tmd_____/slide?slidedata=%7B%22a%22%3A%22X82Y__be31bf05f5bc16c4a763907b48e1c0af%22%2C%22t%22%3A%2224cb9fab896eaeb862cd1e05be46c159%22%2C%22n%22%3A%22140%23aNrDwv1RzzFcYzo2LxXbwpN8s7a7F7PN6mbFvL7y%2F9YTnb4nX7k0elKp%2Bu1FXWt68W8PqD7E04hGOomnZ%2BODnZO1DCJqlbzxgegh%2BDrbzzcX3OaIlpTzzPzbVXlqlbrxbhUobpJXzFzY228%2BlpYAzMnDFaGLMZ2aMX4tjY1yIqph8Vr%2BlCpg0XKK92Q29QqY%2FkIUYgUz8C29yd5i5Vs32FnRHMtVtN8HQh4kR2ArM580B48Y3fzApuReOQjLN74Csgibm%2FPt9Kzn%2FLdQ5NTei1qy7FVHec60DXNl%2BnZ5FZUJCs94mnY87lf0fh56H9z6OWS%2BIIhUI1G7SLIS%2FobWtfm8g5zdtAgKidmpUaXbKhEMFnM%2Fu7%2Fj3lgEXsevQgNyYWbq1tNBI44CSzk8mIq1%2F0vxZvpWe%2B1piJUy1u4eNnrlDY5IOkqHelRMzF73ikWg4t8P9FemUHUxFTigg6S14ZSYM3a7KJEGjRmkqCHcSFx248wX1lqZ9jG4vBGBQaWhXo9kmcP8UW5%2FnlmG3j8Nq%2Ba3JrzEHoDFoDco4Y6BEYOl9ejE6dWCBl1W8lIqPGZfBFk0aDkb0e8o2ANIzEk9hGeCnqc26zLbZHbEQrk3uZObJGt0kMvTlYcozLOvUKTMB6RCD8PyIjVmieikc6poZna2B3EHHg6GZ7CHCtTJETSYuolj%2FxAtsKBBZSRCYh2Hs2O7MnLGbyHBp4apVlQI4nIGsSO8LmIyRXSWYqMotA%2FW%2BwlQoTqy%2F7E0qi3PzEMw1BAqjoBJCOApJPzQ5UZwkgHW98MoV3homlAoOmDML5ZSII2skFe9DkkvCr%2FhMoVwMxRwcxY9c31AebB0UWhosCJJnY1ZLU4TzGv4H4pQ4qLfv5OuSgamNFMHv52KixN%2FazfGNHGJjeOn%2FoRlCyneE5Qd9%2B8GW1dhIk4e%2BJrVO4%2Bga5KO9kRUMMRxzs5hU1TXmbcHCfzGbs%2FA5Nq0y6Xdkar%2BdrMLFv8NQjsr9yOO5QL%2FMDGILr4HO5p3BHgAwjmL9wQUyRHhCIS4WDGy6jw0NKNih74V%2BNGNflSO91glcgIiUnbZmSabCNUmVOOssOGXutq3GRXLIguSE2ULG09iZbMSlIU0GYTp0EMHCcwKsONznPm0W0MCfO6phHvqsdhC%2BtS5lnNhAHx4QbM%3D%22%2C%22p%22%3A%22%7B%5C%22ncSessionID%5C%22%3A%5C%225e701f057423%5C%22%2C%5C%22umidToken%5C%22%3A%5C%22T2gA4clYee1JZKc_ULNeXoubx4TNYndtv5Tybeb7jw8pXQTqcJ_m3QekFAuJZXokAhE%3D%5C%22%7D%22%2C%22scene%22%3A%22register%22%2C%22asyn%22%3A0%2C%22lang%22%3A%22en-gb%22%2C%22v%22%3A1030%7D&x5secdata=5e0c8e1365474455070961b803bd560607b52cabf5960afff39b64ce58073f78012dae8a376add8f7d5090538e1e563bcb80a1d11280bfd4955c983649d236c9a29fd306cf9530377c982eb362590715eb2bc16b1dbc91ea592f0222d32ec23f1976b91a091e5174a4153ee53f360b269783bbae415916f4e376d892cf8ccf5d68422032707df10bffe42dc58e5a993ec3a8710f61b3b110cf4807feb22670a85af0d5e9efd9d78f0b14f57ce89d43bc26b20b49197390b2a55838aad57f39894b2701c91176ab9378ab1b6e9fc20e13165dd37aa6138b58f4ee6dfa387d87305091dbdd424f20b7a856f5ca145d5d52a58e87f6675d10cea8c836ded2ef5e6fa6ef014b5cd3e16cef7ef1bf63dc1b1836cfd60bef24b7d07ed36b5b58fac926c04c413eb3797839fbf0772110cd4e2ced81c65bebf3b9df46dd6afed6f19989f1494fb2d4c59312a226c44ca7f0d2b36d15d396b4daa1bd48442c5700e2e892a63dc72832ff90b6a1db80083d777fa3fdd3eac5bf7400509807f07e67be6835393290f457efcaf0f68da47fb24ac2d780669346b0dc673bf393fa07750577e3fd8cb1124bff7824ce5ae2937043eb914afed865b37df553413632bda1176599157ba1015c766642213065164fbfbb56cf48ccfd368560bec378da3f1b4a07885aba8be5a6e7a473b86131b42a19d61f&v=034986025553421496'''\n",
    "headers2 = {\n",
    "    'authority': 'www.lazada.sg',\n",
    "    'cache-control': 'max-age=0',\n",
    "    'sec-ch-ua': '\"Chromium\";v=\"92\", \" Not A;Brand\";v=\"99\", \"Google Chrome\";v=\"92\"',\n",
    "    'sec-ch-ua-mobile': '?0',\n",
    "    'upgrade-insecure-requests': '1',\n",
    "    'user-agent': 'Mozilla/5.0 (X11; Linux x86_64) AppleWebKit/537.36 (KHTML, like Gecko) Chrome/92.0.4515.51 Safari/537.36',\n",
    "    'accept': 'text/html,application/xhtml+xml,application/xml;q=0.9,image/avif,image/webp,image/apng,*/*;q=0.8,application/signed-exchange;v=b3;q=0.9',\n",
    "    'sec-fetch-site': 'same-origin',\n",
    "    'sec-fetch-mode': 'navigate',\n",
    "    'sec-fetch-user': '?1',\n",
    "    'sec-fetch-dest': 'document',\n",
    "    'referer': 'https://www.lazada.sg/catalog/?_keyori=ss&from=input&page=1&q=lego+super+heroes+76160&sort=priceasc',\n",
    "    'accept-language': 'en-US,en;q=0.9',\n",
    "\n",
    "}"
   ]
  },
  {
   "cell_type": "code",
   "execution_count": 10,
   "metadata": {},
   "outputs": [],
   "source": [
    "cust_cookie1 = '_uab_collina=162420906464852886455375; t_uid=dd1LzJIaYkuiQ2qD4w76tNGWBDqdu383; t_sid=AtvbWCF0BFxy5LNEYujErjyi9S0vs0YE; utm_channel=NA; cna=qGRWGaAGK1kCAcXoPfgWqu5o'\n",
    "newCookie1 = cust_cookie1+\"t_fv=\"+str(getCurrentEpochTime())+\";\"+\"cna=\"+cna+\";\"\n",
    "headers2.update({\"cookie\": newCookie1})\n",
    "res1 = requests.request(\"GET\", x5sec_url, headers=headers2)\n",
    "\n",
    "x5sec = res1.cookies.get('x5sec')"
   ]
  },
  {
   "cell_type": "code",
   "execution_count": 11,
   "metadata": {},
   "outputs": [],
   "source": [
    "csr_url = \"https://member.lazada.sg/user/api/getCsrfToken\"\n",
    "res2 = ses.get(csr_url)\n",
    "tb_token = res2.cookies['_tb_token_']\n",
    "anon_id = res2.cookies['anon_uid']\n",
    "lzd_sid = res2.cookies['lzd_sid']\n",
    "\n",
    "cust_cookie2 = 't_uid=dd1LzJIaYkuiQ2qD4w76tNGWBDqdu383;cna=qGRWGaAGK1kCAcXoPfgWqu5o;hng=SG|en-SG|SGD|702;client_type=desktop;'\n",
    "newCookie2 = cust_cookie2+\"_tb_token_=\"+tb_token+\";\"+\"anon_uid=\"+anon_id+\";\"+\"lzd_sid=\" + \\\n",
    "    lzd_sid+\";\"+\"t_fv=\"+str(getCurrentEpochTime()) + \\\n",
    "    \";\"+\"Domain=.lazada.sg; Path=/;\"+x5sec\n",
    "\n",
    "\n",
    "url = \"https://www.lazada.sg/catalog/?_keyori=ss&from=input&page=1&q=lego+super+heroes+76160&sort=priceasc\"\n",
    "\n",
    "payload = {}\n",
    "headers3 = {\n",
    "    'authority': 'www.lazada.sg',\n",
    "    'cache-control': 'max-age=0',\n",
    "    'sec-ch-ua': '\"Chromium\";v=\"92\", \" Not A;Brand\";v=\"99\", \"Google Chrome\";v=\"92\"',\n",
    "    'sec-ch-ua-mobile': '?0',\n",
    "    'upgrade-insecure-requests': '1',\n",
    "    'user-agent': 'Mozilla/5.0 (X11; Linux x86_64) AppleWebKit/537.36 (KHTML, like Gecko) Chrome/92.0.4515.51 Safari/537.36',\n",
    "    'accept': 'text/html,application/xhtml+xml,application/xml;q=0.9,image/avif,image/webp,image/apng,*/*;q=0.8,application/signed-exchange;v=b3;q=0.9',\n",
    "    'sec-fetch-site': 'same-origin',\n",
    "    'sec-fetch-mode': 'navigate',\n",
    "    'sec-fetch-user': '?1',\n",
    "    'sec-fetch-dest': 'document',\n",
    "    'referer': 'https://www.lazada.sg/catalog/?_keyori=ss&from=input&page=1&q=lego+super+heroes+76160&sort=priceasc',\n",
    "    'accept-language': 'en-US,en;q=0.9'\n",
    "\n",
    "}\n",
    "headers3.update({\"cookie\": newCookie2})"
   ]
  },
  {
   "cell_type": "code",
   "execution_count": 12,
   "metadata": {},
   "outputs": [],
   "source": [
    "def getProductsDetails(keywords):\n",
    "    for keyword in keywords:\n",
    "        keyword_index =keywords.index(keyword)+1\n",
    "        # print('Index', index)\n",
    "        keyword_data =[]\n",
    "        \n",
    "        try:\n",
    "            new_string = urllib.parse.quote_plus(keyword)\n",
    "            keyword_url ='https://www.lazada.sg/catalog/?q='+str(new_string)\n",
    "            \n",
    "            headers3.update({'referer':keyword_url})\n",
    "            final_response = requests.request(\"GET\", keyword_url, headers=headers3, data=payload)\n",
    "            print(\"working on Keyword: \",keyword)\n",
    "            sleep(10)\n",
    "            # print(final_response.text)\n",
    "            soup = BeautifulSoup(final_response.content, \"html.parser\")\n",
    "            scripts = soup.select(\"script\")\n",
    "            pageResults = None\n",
    "            for script_tag in scripts:\n",
    "                if \"window.pageData\" in str(script_tag):\n",
    "                    pageData = str(script_tag).replace(\"<script>\", \"\").replace(\n",
    "                        \"</script>\", \"\").replace(\"window.pageData =\", \"\").rsplit(\";\", 1)[0].strip()\n",
    "                    pageData_json = json.loads(pageData)\n",
    "                    # print(pageData_json)\n",
    "                    pageResults= pageData_json['mods'][\"listItems\"]\n",
    "                else:\n",
    "                    pass\n",
    "            listItems = pageResults\n",
    "            for item in listItems:\n",
    "                try:\n",
    "                    item[\"originalPriceShow\"]\n",
    "                    originalPrice = item['originalPriceShow']\n",
    "                except:\n",
    "                    originalPrice = 0\n",
    "                try:\n",
    "                    item[\"discount\"]\n",
    "                    discount = item[\"discount\"]\n",
    "                except:\n",
    "                    discount = 0\n",
    "                # keyword_data.append({\"sku\":keyword_index,\"prod_Name\": item[\"name\"],\"Keyword\":keyword, \"prod_Id\": item[\"nid\"], \"prod_url\": item[\"productUrl\"],\n",
    "                #             \"image\": item[\"image\"], \"priceShow\": item[\"priceShow\"], \"originalPrice\": originalPrice, \"discount\": discount})\n",
    "                keyword_data.append({\"sku\":keyword_index,\"prod_Name\": item[\"name\"],\"Keyword\":keyword, \"noOfResults\": len(listItems),\"lowestPrice\": item[\"priceShow\"]})\n",
    "            prices=[x[\"lowestPrice\"].split(\"$\")[1].strip() for x in keyword_data]\n",
    "            # print(min(prices))\n",
    "            price_index =prices.index(min(prices))\n",
    "            finaldata.append(keyword_data[price_index])\n",
    "            \n",
    "        except:\n",
    "            raise RuntimeError (f\"There has been an error..\")\n",
    "    return"
   ]
  },
  {
   "cell_type": "code",
   "execution_count": null,
   "metadata": {},
   "outputs": [],
   "source": [
    "getProductsDetails(keywords=keywords)"
   ]
  },
  {
   "cell_type": "code",
   "execution_count": null,
   "metadata": {},
   "outputs": [],
   "source": [
    "\n",
    "final_df = pd.DataFrame(finaldata)\n",
    "final_df.to_excel(\"lazada-sg-products.xlsx\", index=False)\n",
    "print(\"We are Done ... \")"
   ]
  }
 ]
}